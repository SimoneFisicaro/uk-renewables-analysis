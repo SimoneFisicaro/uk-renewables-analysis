{
 "cells": [
  {
   "cell_type": "code",
   "execution_count": 3,
   "metadata": {},
   "outputs": [],
   "source": [
    "import pandas as pd"
   ]
  },
  {
   "cell_type": "markdown",
   "metadata": {},
   "source": [
    "# Import data"
   ]
  },
  {
   "cell_type": "code",
   "execution_count": 5,
   "metadata": {},
   "outputs": [],
   "source": [
    "input_data = pd.read_csv(\"../data/fuel_used_in_electricity_generation_and_electricity_supplied.txt\", delimiter=\"\\t\", decimal=',')"
   ]
  },
  {
   "cell_type": "markdown",
   "metadata": {},
   "source": [
    "# Transpose and create columns"
   ]
  },
  {
   "cell_type": "code",
   "execution_count": 6,
   "metadata": {},
   "outputs": [],
   "source": [
    "data = input_data.set_index('index').T\n",
    "data['date'] = data.index\n",
    "data = data.reset_index()\n",
    "data['year'] = pd.to_numeric(data.date.str.split('-').str[0])\n",
    "data['quarter'] = pd.to_numeric(data.date.str.split('-').str[1])\n",
    "data = data.drop(columns=['index'])"
   ]
  },
  {
   "cell_type": "markdown",
   "metadata": {},
   "source": [
    "# Filter data"
   ]
  },
  {
   "cell_type": "code",
   "execution_count": 7,
   "metadata": {},
   "outputs": [],
   "source": [
    "data_filtered = data[data.year >= 2010]\n",
    "data_filtered = data_filtered.reset_index()\n",
    "data_filtered = data_filtered.drop(columns=['index'])"
   ]
  },
  {
   "cell_type": "markdown",
   "metadata": {},
   "source": [
    "# Create on-shore columns"
   ]
  },
  {
   "cell_type": "code",
   "execution_count": 8,
   "metadata": {},
   "outputs": [],
   "source": [
    "data_filtered['generated_wind_solar_onshore'] = data_filtered['generated_wind_solar'] - data_filtered['generated_of_which_offshore']"
   ]
  },
  {
   "cell_type": "markdown",
   "metadata": {},
   "source": [
    "# Create non-renewable column"
   ]
  },
  {
   "cell_type": "code",
   "execution_count": 9,
   "metadata": {},
   "outputs": [],
   "source": [
    "data_filtered['generated_non_renewable'] = data_filtered['generated_total'] - \\\n",
    "    data_filtered['generated_hydro'] - \\\n",
    "    data_filtered['generated_wind_solar'] - \\\n",
    "    data_filtered['generated_bioenergy']"
   ]
  },
  {
   "cell_type": "markdown",
   "metadata": {},
   "source": [
    "# Remove unwanted columns"
   ]
  },
  {
   "cell_type": "code",
   "execution_count": 12,
   "metadata": {},
   "outputs": [
    {
     "data": {
      "text/html": [
       "<div>\n",
       "<style scoped>\n",
       "    .dataframe tbody tr th:only-of-type {\n",
       "        vertical-align: middle;\n",
       "    }\n",
       "\n",
       "    .dataframe tbody tr th {\n",
       "        vertical-align: top;\n",
       "    }\n",
       "\n",
       "    .dataframe thead th {\n",
       "        text-align: right;\n",
       "    }\n",
       "</style>\n",
       "<table border=\"1\" class=\"dataframe\">\n",
       "  <thead>\n",
       "    <tr style=\"text-align: right;\">\n",
       "      <th>index</th>\n",
       "      <th>year</th>\n",
       "      <th>quarter</th>\n",
       "      <th>generated_coal</th>\n",
       "      <th>generated_oil</th>\n",
       "      <th>generated_gas</th>\n",
       "      <th>generated_nuclear</th>\n",
       "      <th>generated_hydro</th>\n",
       "      <th>generated_wind_solar</th>\n",
       "      <th>generated_wind_solar_onshore</th>\n",
       "      <th>generated_of_which_offshore</th>\n",
       "      <th>generated_bioenergy</th>\n",
       "      <th>generated_pumped_storage</th>\n",
       "      <th>generated_other_fuels</th>\n",
       "      <th>generated_non_renewable</th>\n",
       "      <th>generated_total</th>\n",
       "    </tr>\n",
       "  </thead>\n",
       "  <tbody>\n",
       "    <tr>\n",
       "      <th>0</th>\n",
       "      <td>2010</td>\n",
       "      <td>1</td>\n",
       "      <td>32.62</td>\n",
       "      <td>1.44</td>\n",
       "      <td>48.19</td>\n",
       "      <td>18.19</td>\n",
       "      <td>0.84</td>\n",
       "      <td>2.43</td>\n",
       "      <td>1.76</td>\n",
       "      <td>0.67</td>\n",
       "      <td>2.97</td>\n",
       "      <td>0.86</td>\n",
       "      <td>0.64</td>\n",
       "      <td>101.94</td>\n",
       "      <td>108.18</td>\n",
       "    </tr>\n",
       "    <tr>\n",
       "      <th>1</th>\n",
       "      <td>2010</td>\n",
       "      <td>2</td>\n",
       "      <td>19.53</td>\n",
       "      <td>0.92</td>\n",
       "      <td>45.49</td>\n",
       "      <td>13.88</td>\n",
       "      <td>0.65</td>\n",
       "      <td>1.67</td>\n",
       "      <td>1.21</td>\n",
       "      <td>0.46</td>\n",
       "      <td>2.93</td>\n",
       "      <td>0.76</td>\n",
       "      <td>0.67</td>\n",
       "      <td>81.26</td>\n",
       "      <td>86.51</td>\n",
       "    </tr>\n",
       "    <tr>\n",
       "      <th>2</th>\n",
       "      <td>2010</td>\n",
       "      <td>3</td>\n",
       "      <td>19.79</td>\n",
       "      <td>1.14</td>\n",
       "      <td>40.83</td>\n",
       "      <td>13.02</td>\n",
       "      <td>0.86</td>\n",
       "      <td>2.77</td>\n",
       "      <td>1.94</td>\n",
       "      <td>0.83</td>\n",
       "      <td>3.13</td>\n",
       "      <td>0.71</td>\n",
       "      <td>0.64</td>\n",
       "      <td>76.12</td>\n",
       "      <td>82.88</td>\n",
       "    </tr>\n",
       "    <tr>\n",
       "      <th>3</th>\n",
       "      <td>2010</td>\n",
       "      <td>4</td>\n",
       "      <td>35.66</td>\n",
       "      <td>1.31</td>\n",
       "      <td>41.15</td>\n",
       "      <td>17.05</td>\n",
       "      <td>1.24</td>\n",
       "      <td>3.45</td>\n",
       "      <td>2.35</td>\n",
       "      <td>1.10</td>\n",
       "      <td>3.24</td>\n",
       "      <td>0.82</td>\n",
       "      <td>0.59</td>\n",
       "      <td>96.57</td>\n",
       "      <td>104.50</td>\n",
       "    </tr>\n",
       "    <tr>\n",
       "      <th>4</th>\n",
       "      <td>2011</td>\n",
       "      <td>1</td>\n",
       "      <td>35.13</td>\n",
       "      <td>0.91</td>\n",
       "      <td>38.30</td>\n",
       "      <td>19.45</td>\n",
       "      <td>1.30</td>\n",
       "      <td>3.41</td>\n",
       "      <td>2.41</td>\n",
       "      <td>1.00</td>\n",
       "      <td>3.36</td>\n",
       "      <td>0.77</td>\n",
       "      <td>0.74</td>\n",
       "      <td>95.30</td>\n",
       "      <td>103.37</td>\n",
       "    </tr>\n",
       "  </tbody>\n",
       "</table>\n",
       "</div>"
      ],
      "text/plain": [
       "index  year  quarter  generated_coal  generated_oil  generated_gas  \\\n",
       "0      2010        1           32.62           1.44          48.19   \n",
       "1      2010        2           19.53           0.92          45.49   \n",
       "2      2010        3           19.79           1.14          40.83   \n",
       "3      2010        4           35.66           1.31          41.15   \n",
       "4      2011        1           35.13           0.91          38.30   \n",
       "\n",
       "index  generated_nuclear  generated_hydro  generated_wind_solar  \\\n",
       "0                  18.19             0.84                  2.43   \n",
       "1                  13.88             0.65                  1.67   \n",
       "2                  13.02             0.86                  2.77   \n",
       "3                  17.05             1.24                  3.45   \n",
       "4                  19.45             1.30                  3.41   \n",
       "\n",
       "index  generated_wind_solar_onshore  generated_of_which_offshore  \\\n",
       "0                              1.76                         0.67   \n",
       "1                              1.21                         0.46   \n",
       "2                              1.94                         0.83   \n",
       "3                              2.35                         1.10   \n",
       "4                              2.41                         1.00   \n",
       "\n",
       "index  generated_bioenergy  generated_pumped_storage  generated_other_fuels  \\\n",
       "0                     2.97                      0.86                   0.64   \n",
       "1                     2.93                      0.76                   0.67   \n",
       "2                     3.13                      0.71                   0.64   \n",
       "3                     3.24                      0.82                   0.59   \n",
       "4                     3.36                      0.77                   0.74   \n",
       "\n",
       "index  generated_non_renewable  generated_total  \n",
       "0                       101.94           108.18  \n",
       "1                        81.26            86.51  \n",
       "2                        76.12            82.88  \n",
       "3                        96.57           104.50  \n",
       "4                        95.30           103.37  "
      ]
     },
     "execution_count": 12,
     "metadata": {},
     "output_type": "execute_result"
    }
   ],
   "source": [
    "data_final = data_filtered[['year', 'quarter', 'generated_coal', 'generated_oil', 'generated_gas', 'generated_nuclear', 'generated_hydro', 'generated_wind_solar', 'generated_wind_solar_onshore', 'generated_of_which_offshore', 'generated_bioenergy', 'generated_pumped_storage', 'generated_other_fuels', 'generated_non_renewable', 'generated_total']]"
   ]
  },
  {
   "cell_type": "markdown",
   "metadata": {},
   "source": [
    "# Save dataframe"
   ]
  },
  {
   "cell_type": "code",
   "execution_count": 14,
   "metadata": {},
   "outputs": [],
   "source": [
    "data_final.to_csv('../data/generation.csv', index=False)"
   ]
  },
  {
   "cell_type": "code",
   "execution_count": null,
   "metadata": {},
   "outputs": [],
   "source": []
  }
 ],
 "metadata": {
  "kernelspec": {
   "display_name": "Python 3",
   "language": "python",
   "name": "python3"
  },
  "language_info": {
   "codemirror_mode": {
    "name": "ipython",
    "version": 3
   },
   "file_extension": ".py",
   "mimetype": "text/x-python",
   "name": "python",
   "nbconvert_exporter": "python",
   "pygments_lexer": "ipython3",
   "version": "3.7.0"
  }
 },
 "nbformat": 4,
 "nbformat_minor": 2
}
