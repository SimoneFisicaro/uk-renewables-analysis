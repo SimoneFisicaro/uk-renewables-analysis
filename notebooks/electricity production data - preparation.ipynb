{
 "cells": [
  {
   "cell_type": "code",
   "execution_count": 2,
   "metadata": {},
   "outputs": [],
   "source": [
    "import pandas as pd"
   ]
  },
  {
   "cell_type": "markdown",
   "metadata": {},
   "source": [
    "# Import data"
   ]
  },
  {
   "cell_type": "code",
   "execution_count": 3,
   "metadata": {},
   "outputs": [],
   "source": [
    "input_data = pd.read_csv(\"../data/fuel_used_in_electricity_generation_and_electricity_supplied.txt\", delimiter=\"\\t\", decimal=',')"
   ]
  },
  {
   "cell_type": "markdown",
   "metadata": {},
   "source": [
    "# Transpose and create columns"
   ]
  },
  {
   "cell_type": "code",
   "execution_count": 4,
   "metadata": {},
   "outputs": [],
   "source": [
    "data = input_data.set_index('index').T\n",
    "data['date'] = data.index\n",
    "data = data.reset_index()\n",
    "data['year'] = pd.to_numeric(data.date.str.split('-').str[0])\n",
    "data['quarter'] = pd.to_numeric(data.date.str.split('-').str[1])\n",
    "data = data.drop(columns=['index'])"
   ]
  },
  {
   "cell_type": "markdown",
   "metadata": {},
   "source": [
    "# Filter data"
   ]
  },
  {
   "cell_type": "code",
   "execution_count": 5,
   "metadata": {},
   "outputs": [],
   "source": [
    "data_filtered = data[data.year >= 2010]\n",
    "data_filtered = data_filtered.reset_index()\n",
    "data_filtered = data_filtered.drop(columns=['index'])"
   ]
  },
  {
   "cell_type": "markdown",
   "metadata": {},
   "source": [
    "# Create on-shore columns"
   ]
  },
  {
   "cell_type": "code",
   "execution_count": 6,
   "metadata": {},
   "outputs": [],
   "source": [
    "data_filtered['generated_wind_solar_onshore'] = data_filtered['generated_wind_solar'] - data_filtered['generated_of_which_offshore']"
   ]
  },
  {
   "cell_type": "markdown",
   "metadata": {},
   "source": [
    "# Create non-renewable column"
   ]
  },
  {
   "cell_type": "code",
   "execution_count": 11,
   "metadata": {},
   "outputs": [],
   "source": [
    "data_filtered['generated_non_renewable'] = data_filtered['generated_total'] - \\\n",
    "    data_filtered['generated_hydro'] - \\\n",
    "    data_filtered['generated_wind_solar'] - \\\n",
    "    data_filtered['generated_bioenergy']\n",
    "\n",
    "data_filtered['generated_renewable'] = data_filtered['generated_total'] - data_filtered['generated_non_renewable']"
   ]
  },
  {
   "cell_type": "markdown",
   "metadata": {},
   "source": [
    "# Remove unwanted columns"
   ]
  },
  {
   "cell_type": "code",
   "execution_count": 16,
   "metadata": {},
   "outputs": [],
   "source": [
    "data_final = data_filtered[['year', 'quarter', 'generated_hydro', 'generated_wind_solar', 'generated_wind_solar_onshore', 'generated_of_which_offshore', 'generated_bioenergy', 'generated_renewable', 'generated_non_renewable', 'generated_total']]"
   ]
  },
  {
   "cell_type": "markdown",
   "metadata": {},
   "source": [
    "# Save dataframe"
   ]
  },
  {
   "cell_type": "code",
   "execution_count": 17,
   "metadata": {},
   "outputs": [],
   "source": [
    "data_final.to_csv('../data/generation.csv', index=False)"
   ]
  },
  {
   "cell_type": "code",
   "execution_count": null,
   "metadata": {},
   "outputs": [],
   "source": []
  }
 ],
 "metadata": {
  "kernelspec": {
   "display_name": "Python 3",
   "language": "python",
   "name": "python3"
  },
  "language_info": {
   "codemirror_mode": {
    "name": "ipython",
    "version": 3
   },
   "file_extension": ".py",
   "mimetype": "text/x-python",
   "name": "python",
   "nbconvert_exporter": "python",
   "pygments_lexer": "ipython3",
   "version": "3.7.0"
  }
 },
 "nbformat": 4,
 "nbformat_minor": 2
}
